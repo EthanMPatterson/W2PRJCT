{
 "cells": [
  {
   "cell_type": "markdown",
   "metadata": {},
   "source": [
    "<h1>Python Shopping Cart</h1> Develop a versatile shopping cart program with the following functionalities:\n",
    "Upon starting the program, initialize an empty list or dictionary to represent the shopping cart.<br>  Present a user-friendly menu that includes the following options:\n",
    "Allow users to add items to the shopping cart.<br>  For each item, prompt the user to input a name, quantity, and price. Store these details and add it to the shopping cart.<br> \n",
    "Provide the ability to remove items from the shopping cart.<br>  Prompt the user to input the name of the item they wish to remove.<br>  Ensure to handle cases where the item is not found in the cart.<br> \n",
    "Display the current contents of the shopping cart. Include the name, quantity, and price of each item, as well as a running total of the cost.\n",
    "Allow the user to exit the program. <br> Upon quitting, print a summary of all items in the cart, including their details and the total cost.\n",
    "Implement a loop that continuously prompts the user for their choice until they decide to quit.<br> \n",
    "Include appropriate error handling to deal with scenarios such as invalid input when adding or removing items.<br> \n",
    "Ensure that the program provides a clear and user-friendly experience. Include informative messages and prompts to guide the user through each step.<br> \n",
    "After the user quits, display a friendly closing message along with the final list of items in the cart and the total cost."
   ]
  },
  {
   "cell_type": "code",
   "execution_count": 17,
   "metadata": {},
   "outputs": [
    {
     "ename": "SyntaxError",
     "evalue": "invalid syntax (2792814381.py, line 28)",
     "output_type": "error",
     "traceback": [
      "\u001b[1;36m  Cell \u001b[1;32mIn[17], line 28\u001b[1;36m\u001b[0m\n\u001b[1;33m    except ValueError:\u001b[0m\n\u001b[1;37m    ^\u001b[0m\n\u001b[1;31mSyntaxError\u001b[0m\u001b[1;31m:\u001b[0m invalid syntax\n"
     ]
    }
   ],
   "source": [
    "all_items = {}\n",
    "\n",
    "while True:\n",
    "    item = input(\"Enter an item to add it to your shopping cart. Enter 'x' at anytime to exit the program\")\n",
    "    if item.lower() == 'x':\n",
    "        break\n",
    "    else:\n",
    "        while True:\n",
    "            quantity_input = input(f\"Please enter the quantity of {item} you'd like to add to your cart (x to exit)\")\n",
    "            if quantity_input.lower() == 'x':\n",
    "                break\n",
    "            try:\n",
    "                quantity = int(quantity_input) \n",
    "                if quantity <= 0  or isinstance(quantity, str):\n",
    "                    raise  ValueError(\"Please enter a valid positive integer\")\n",
    "                break\n",
    "            except ValueError:\n",
    "                print(\"Please enter a positive integer for the amount of {item} you would like to add to your cart\")\n",
    "        while True: \n",
    "            price_input = input(f\"Please enter the price of {item}\")\n",
    "            if price_input == 'x':\n",
    "                break\n",
    "        try:\n",
    "            price = float(price_input)\n",
    "            if price.is_integer():\n",
    "                price = float(price)\n",
    "                break\n",
    "            except ValueError:\n",
    "                print(\"Please enter a valid price(int or float). You have most likely entered a string\")\n",
    "            \n",
    "    all_items[item] = [price, quantity]\n",
    "    print(\"\\nShopping List:\")\n",
    "    for item, price in all_items.items():\n",
    "        print(f\"Item: {item} ------- Price: ${price}\")\n",
    "    total = sum(price * quantity for price, quantity in all_items.values())\n",
    "    print(f\"Running Total: ${total}\")\n",
    "    print('='*50)"
   ]
  },
  {
   "cell_type": "code",
   "execution_count": null,
   "metadata": {},
   "outputs": [],
   "source": []
  }
 ],
 "metadata": {
  "kernelspec": {
   "display_name": "Python 3",
   "language": "python",
   "name": "python3"
  },
  "language_info": {
   "codemirror_mode": {
    "name": "ipython",
    "version": 3
   },
   "file_extension": ".py",
   "mimetype": "text/x-python",
   "name": "python",
   "nbconvert_exporter": "python",
   "pygments_lexer": "ipython3",
   "version": "3.12.2"
  }
 },
 "nbformat": 4,
 "nbformat_minor": 2
}
