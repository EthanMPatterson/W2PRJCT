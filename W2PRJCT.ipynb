{
 "cells": [
  {
   "cell_type": "markdown",
   "metadata": {},
   "source": [
    "<h1>Python Shopping Cart</h1> Develop a versatile shopping cart program with the following functionalities:\n",
    "Upon starting the program, initialize an empty list or dictionary to represent the shopping cart.<br>  Present a user-friendly menu that includes the following options:\n",
    "Allow users to add items to the shopping cart.<br>  For each item, prompt the user to input a name, quantity, and price. Store these details and add it to the shopping cart.<br> \n",
    "Provide the ability to remove items from the shopping cart.<br>  Prompt the user to input the name of the item they wish to remove.<br>  Ensure to handle cases where the item is not found in the cart.<br> \n",
    "Display the current contents of the shopping cart. Include the name, quantity, and price of each item, as well as a running total of the cost.\n",
    "Allow the user to exit the program. <br> Upon quitting, print a summary of all items in the cart, including their details and the total cost.\n",
    "Implement a loop that continuously prompts the user for their choice until they decide to quit.<br> \n",
    "Include appropriate error handling to deal with scenarios such as invalid input when adding or removing items.<br> \n",
    "Ensure that the program provides a clear and user-friendly experience. Include informative messages and prompts to guide the user through each step.<br> \n",
    "After the user quits, display a friendly closing message along with the final list of items in the cart and the total cost."
   ]
  },
  {
   "cell_type": "code",
   "execution_count": 27,
   "metadata": {},
   "outputs": [
    {
     "name": "stdout",
     "output_type": "stream",
     "text": [
      "Item: food ------- Price: $23.0\n",
      "Running Total: 23.0\n",
      "==================================================\n",
      "Item: food ------- Price: $23.0\n",
      "Item: bags ------- Price: $4.0\n",
      "Running Total: 27.0\n",
      "==================================================\n",
      "Item: food ------- Price: $23.0\n",
      "Item: bags ------- Price: $4.0\n",
      "Item: groceries  ------- Price: $125.0\n",
      "Running Total: 152.0\n",
      "==================================================\n",
      "Item: food ------- Price: $23.0\n",
      "Item: bags ------- Price: $4.0\n",
      "Item: groceries  ------- Price: $40.0\n",
      "Running Total: 67.0\n",
      "==================================================\n",
      "Item: food ------- Price: $23.0\n",
      "Item: bags ------- Price: $4.0\n",
      "Item: groceries  ------- Price: $40.0\n",
      "Item: dog food ------- Price: $19.99\n",
      "Running Total: 86.99\n",
      "==================================================\n"
     ]
    }
   ],
   "source": [
    "all_items = {}\n",
    "\n",
    "while True:\n",
    "    item = input(\"Enter an item to add it to your shopping cart\")\n",
    "    if item.lower() == 'x':\n",
    "        break\n",
    "    else: \n",
    "        while True: \n",
    "            price_i = input(f\"Please enter the price of {item}\")\n",
    "            if price_i == 'x':\n",
    "                break\n",
    "            try:\n",
    "                price = float(price_i)\n",
    "                if price.is_integer():\n",
    "                    price = float(price)\n",
    "                break\n",
    "            except ValueError:\n",
    "                print(\"Please enter a valid price(int or float). You have most likely entered a string\")\n",
    "    all_items[item] = price\n",
    "    for item, price in all_items.items():\n",
    "        print(f\"Item: {item} ------- Price: ${price}\")\n",
    "    total = sum(all_items.values())\n",
    "    print(f\"Running Total: {total}\")\n",
    "    print('='*50)"
   ]
  },
  {
   "cell_type": "code",
   "execution_count": null,
   "metadata": {},
   "outputs": [],
   "source": []
  }
 ],
 "metadata": {
  "kernelspec": {
   "display_name": "Python 3",
   "language": "python",
   "name": "python3"
  },
  "language_info": {
   "codemirror_mode": {
    "name": "ipython",
    "version": 3
   },
   "file_extension": ".py",
   "mimetype": "text/x-python",
   "name": "python",
   "nbconvert_exporter": "python",
   "pygments_lexer": "ipython3",
   "version": "3.12.2"
  }
 },
 "nbformat": 4,
 "nbformat_minor": 2
}
